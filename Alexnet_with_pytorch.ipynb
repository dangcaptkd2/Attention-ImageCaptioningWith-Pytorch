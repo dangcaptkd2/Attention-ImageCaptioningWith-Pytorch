{
  "nbformat": 4,
  "nbformat_minor": 0,
  "metadata": {
    "colab": {
      "name": "Alexnet with pytorch.ipynb",
      "provenance": [],
      "collapsed_sections": [],
      "authorship_tag": "ABX9TyMzdV3Ylkv3m/hlRvdVwgpJ",
      "include_colab_link": true
    },
    "kernelspec": {
      "name": "python3",
      "display_name": "Python 3"
    },
    "language_info": {
      "name": "python"
    },
    "widgets": {
      "application/vnd.jupyter.widget-state+json": {
        "334e76f44a32404caf36b0fd22d5f68f": {
          "model_module": "@jupyter-widgets/controls",
          "model_name": "HBoxModel",
          "state": {
            "_view_name": "HBoxView",
            "_dom_classes": [],
            "_model_name": "HBoxModel",
            "_view_module": "@jupyter-widgets/controls",
            "_model_module_version": "1.5.0",
            "_view_count": null,
            "_view_module_version": "1.5.0",
            "box_style": "",
            "layout": "IPY_MODEL_75266cdac2da4371bc47ba97d1e4dc0e",
            "_model_module": "@jupyter-widgets/controls",
            "children": [
              "IPY_MODEL_f08d1cd90f5147d09086ac06836a6b87",
              "IPY_MODEL_2a921a396f9f4787a0414991749f7c04"
            ]
          }
        },
        "75266cdac2da4371bc47ba97d1e4dc0e": {
          "model_module": "@jupyter-widgets/base",
          "model_name": "LayoutModel",
          "state": {
            "_view_name": "LayoutView",
            "grid_template_rows": null,
            "right": null,
            "justify_content": null,
            "_view_module": "@jupyter-widgets/base",
            "overflow": null,
            "_model_module_version": "1.2.0",
            "_view_count": null,
            "flex_flow": null,
            "width": null,
            "min_width": null,
            "border": null,
            "align_items": null,
            "bottom": null,
            "_model_module": "@jupyter-widgets/base",
            "top": null,
            "grid_column": null,
            "overflow_y": null,
            "overflow_x": null,
            "grid_auto_flow": null,
            "grid_area": null,
            "grid_template_columns": null,
            "flex": null,
            "_model_name": "LayoutModel",
            "justify_items": null,
            "grid_row": null,
            "max_height": null,
            "align_content": null,
            "visibility": null,
            "align_self": null,
            "height": null,
            "min_height": null,
            "padding": null,
            "grid_auto_rows": null,
            "grid_gap": null,
            "max_width": null,
            "order": null,
            "_view_module_version": "1.2.0",
            "grid_template_areas": null,
            "object_position": null,
            "object_fit": null,
            "grid_auto_columns": null,
            "margin": null,
            "display": null,
            "left": null
          }
        },
        "f08d1cd90f5147d09086ac06836a6b87": {
          "model_module": "@jupyter-widgets/controls",
          "model_name": "FloatProgressModel",
          "state": {
            "_view_name": "ProgressView",
            "style": "IPY_MODEL_b24bcbf096104406adf62502d031f2a7",
            "_dom_classes": [],
            "description": "100%",
            "_model_name": "FloatProgressModel",
            "bar_style": "success",
            "max": 244418560,
            "_view_module": "@jupyter-widgets/controls",
            "_model_module_version": "1.5.0",
            "value": 244418560,
            "_view_count": null,
            "_view_module_version": "1.5.0",
            "orientation": "horizontal",
            "min": 0,
            "description_tooltip": null,
            "_model_module": "@jupyter-widgets/controls",
            "layout": "IPY_MODEL_37fe81336c494c7da87f45cf99feee03"
          }
        },
        "2a921a396f9f4787a0414991749f7c04": {
          "model_module": "@jupyter-widgets/controls",
          "model_name": "HTMLModel",
          "state": {
            "_view_name": "HTMLView",
            "style": "IPY_MODEL_b4477c8c89e44da8bab6b28b4f23aca8",
            "_dom_classes": [],
            "description": "",
            "_model_name": "HTMLModel",
            "placeholder": "​",
            "_view_module": "@jupyter-widgets/controls",
            "_model_module_version": "1.5.0",
            "value": " 233M/233M [03:07&lt;00:00, 1.30MB/s]",
            "_view_count": null,
            "_view_module_version": "1.5.0",
            "description_tooltip": null,
            "_model_module": "@jupyter-widgets/controls",
            "layout": "IPY_MODEL_ee760b3aec424f148862e53ceeba9f65"
          }
        },
        "b24bcbf096104406adf62502d031f2a7": {
          "model_module": "@jupyter-widgets/controls",
          "model_name": "ProgressStyleModel",
          "state": {
            "_view_name": "StyleView",
            "_model_name": "ProgressStyleModel",
            "description_width": "initial",
            "_view_module": "@jupyter-widgets/base",
            "_model_module_version": "1.5.0",
            "_view_count": null,
            "_view_module_version": "1.2.0",
            "bar_color": null,
            "_model_module": "@jupyter-widgets/controls"
          }
        },
        "37fe81336c494c7da87f45cf99feee03": {
          "model_module": "@jupyter-widgets/base",
          "model_name": "LayoutModel",
          "state": {
            "_view_name": "LayoutView",
            "grid_template_rows": null,
            "right": null,
            "justify_content": null,
            "_view_module": "@jupyter-widgets/base",
            "overflow": null,
            "_model_module_version": "1.2.0",
            "_view_count": null,
            "flex_flow": null,
            "width": null,
            "min_width": null,
            "border": null,
            "align_items": null,
            "bottom": null,
            "_model_module": "@jupyter-widgets/base",
            "top": null,
            "grid_column": null,
            "overflow_y": null,
            "overflow_x": null,
            "grid_auto_flow": null,
            "grid_area": null,
            "grid_template_columns": null,
            "flex": null,
            "_model_name": "LayoutModel",
            "justify_items": null,
            "grid_row": null,
            "max_height": null,
            "align_content": null,
            "visibility": null,
            "align_self": null,
            "height": null,
            "min_height": null,
            "padding": null,
            "grid_auto_rows": null,
            "grid_gap": null,
            "max_width": null,
            "order": null,
            "_view_module_version": "1.2.0",
            "grid_template_areas": null,
            "object_position": null,
            "object_fit": null,
            "grid_auto_columns": null,
            "margin": null,
            "display": null,
            "left": null
          }
        },
        "b4477c8c89e44da8bab6b28b4f23aca8": {
          "model_module": "@jupyter-widgets/controls",
          "model_name": "DescriptionStyleModel",
          "state": {
            "_view_name": "StyleView",
            "_model_name": "DescriptionStyleModel",
            "description_width": "",
            "_view_module": "@jupyter-widgets/base",
            "_model_module_version": "1.5.0",
            "_view_count": null,
            "_view_module_version": "1.2.0",
            "_model_module": "@jupyter-widgets/controls"
          }
        },
        "ee760b3aec424f148862e53ceeba9f65": {
          "model_module": "@jupyter-widgets/base",
          "model_name": "LayoutModel",
          "state": {
            "_view_name": "LayoutView",
            "grid_template_rows": null,
            "right": null,
            "justify_content": null,
            "_view_module": "@jupyter-widgets/base",
            "overflow": null,
            "_model_module_version": "1.2.0",
            "_view_count": null,
            "flex_flow": null,
            "width": null,
            "min_width": null,
            "border": null,
            "align_items": null,
            "bottom": null,
            "_model_module": "@jupyter-widgets/base",
            "top": null,
            "grid_column": null,
            "overflow_y": null,
            "overflow_x": null,
            "grid_auto_flow": null,
            "grid_area": null,
            "grid_template_columns": null,
            "flex": null,
            "_model_name": "LayoutModel",
            "justify_items": null,
            "grid_row": null,
            "max_height": null,
            "align_content": null,
            "visibility": null,
            "align_self": null,
            "height": null,
            "min_height": null,
            "padding": null,
            "grid_auto_rows": null,
            "grid_gap": null,
            "max_width": null,
            "order": null,
            "_view_module_version": "1.2.0",
            "grid_template_areas": null,
            "object_position": null,
            "object_fit": null,
            "grid_auto_columns": null,
            "margin": null,
            "display": null,
            "left": null
          }
        }
      }
    }
  },
  "cells": [
    {
      "cell_type": "markdown",
      "metadata": {
        "id": "view-in-github",
        "colab_type": "text"
      },
      "source": [
        "<a href=\"https://colab.research.google.com/github/dangcaptkd2/Attention-ImageCaptioningWith-Pytorch/blob/son/Alexnet_with_pytorch.ipynb\" target=\"_parent\"><img src=\"https://colab.research.google.com/assets/colab-badge.svg\" alt=\"Open In Colab\"/></a>"
      ]
    },
    {
      "cell_type": "code",
      "metadata": {
        "colab": {
          "base_uri": "https://localhost:8080/"
        },
        "id": "r-8At3dckQI8",
        "outputId": "04407816-eb2c-43a9-db9a-3c65d11e0697"
      },
      "source": [
        "!git clone https://github.com/dangcaptkd2/Fruits-Classification"
      ],
      "execution_count": 1,
      "outputs": [
        {
          "output_type": "stream",
          "text": [
            "Cloning into 'Fruits-Classification'...\n",
            "remote: Enumerating objects: 2565, done.\u001b[K\n",
            "remote: Counting objects: 100% (17/17), done.\u001b[K\n",
            "remote: Compressing objects: 100% (16/16), done.\u001b[K\n",
            "remote: Total 2565 (delta 1), reused 14 (delta 1), pack-reused 2548\u001b[K\n",
            "Receiving objects: 100% (2565/2565), 6.53 GiB | 36.30 MiB/s, done.\n",
            "Resolving deltas: 100% (21/21), done.\n",
            "Checking out files: 100% (2521/2521), done.\n"
          ],
          "name": "stdout"
        }
      ]
    },
    {
      "cell_type": "code",
      "metadata": {
        "id": "62l4pITIodrr"
      },
      "source": [
        "#checking files \n",
        "import os \n",
        "path_apple = '/content/Fruits-Classification/data/apple'\n",
        "path_banana = '/content/Fruits-Classification/data/pear'\n",
        "apple_imgs = os.listdir(path_apple)\n",
        "banana_imgs = os.listdir(path_banana)\n",
        "#len(apple_imgs)"
      ],
      "execution_count": 2,
      "outputs": []
    },
    {
      "cell_type": "code",
      "metadata": {
        "id": "GtAKD_rckelf",
        "colab": {
          "base_uri": "https://localhost:8080/",
          "height": 553,
          "referenced_widgets": [
            "334e76f44a32404caf36b0fd22d5f68f",
            "75266cdac2da4371bc47ba97d1e4dc0e",
            "f08d1cd90f5147d09086ac06836a6b87",
            "2a921a396f9f4787a0414991749f7c04",
            "b24bcbf096104406adf62502d031f2a7",
            "37fe81336c494c7da87f45cf99feee03",
            "b4477c8c89e44da8bab6b28b4f23aca8",
            "ee760b3aec424f148862e53ceeba9f65"
          ]
        },
        "outputId": "a666327f-4997-4d6f-f545-e49dbbba567e"
      },
      "source": [
        "# Downloading model AlexNet\n",
        "import torch\n",
        "model = torch.hub.load('pytorch/vision:v0.9.0', 'alexnet', pretrained=True)\n",
        "model.eval()"
      ],
      "execution_count": 3,
      "outputs": [
        {
          "output_type": "stream",
          "text": [
            "Downloading: \"https://github.com/pytorch/vision/archive/v0.9.0.zip\" to /root/.cache/torch/hub/v0.9.0.zip\n",
            "Downloading: \"https://download.pytorch.org/models/alexnet-owt-4df8aa71.pth\" to /root/.cache/torch/hub/checkpoints/alexnet-owt-4df8aa71.pth\n"
          ],
          "name": "stderr"
        },
        {
          "output_type": "display_data",
          "data": {
            "application/vnd.jupyter.widget-view+json": {
              "model_id": "334e76f44a32404caf36b0fd22d5f68f",
              "version_minor": 0,
              "version_major": 2
            },
            "text/plain": [
              "HBox(children=(FloatProgress(value=0.0, max=244418560.0), HTML(value='')))"
            ]
          },
          "metadata": {
            "tags": []
          }
        },
        {
          "output_type": "stream",
          "text": [
            "\n"
          ],
          "name": "stdout"
        },
        {
          "output_type": "execute_result",
          "data": {
            "text/plain": [
              "AlexNet(\n",
              "  (features): Sequential(\n",
              "    (0): Conv2d(3, 64, kernel_size=(11, 11), stride=(4, 4), padding=(2, 2))\n",
              "    (1): ReLU(inplace=True)\n",
              "    (2): MaxPool2d(kernel_size=3, stride=2, padding=0, dilation=1, ceil_mode=False)\n",
              "    (3): Conv2d(64, 192, kernel_size=(5, 5), stride=(1, 1), padding=(2, 2))\n",
              "    (4): ReLU(inplace=True)\n",
              "    (5): MaxPool2d(kernel_size=3, stride=2, padding=0, dilation=1, ceil_mode=False)\n",
              "    (6): Conv2d(192, 384, kernel_size=(3, 3), stride=(1, 1), padding=(1, 1))\n",
              "    (7): ReLU(inplace=True)\n",
              "    (8): Conv2d(384, 256, kernel_size=(3, 3), stride=(1, 1), padding=(1, 1))\n",
              "    (9): ReLU(inplace=True)\n",
              "    (10): Conv2d(256, 256, kernel_size=(3, 3), stride=(1, 1), padding=(1, 1))\n",
              "    (11): ReLU(inplace=True)\n",
              "    (12): MaxPool2d(kernel_size=3, stride=2, padding=0, dilation=1, ceil_mode=False)\n",
              "  )\n",
              "  (avgpool): AdaptiveAvgPool2d(output_size=(6, 6))\n",
              "  (classifier): Sequential(\n",
              "    (0): Dropout(p=0.5, inplace=False)\n",
              "    (1): Linear(in_features=9216, out_features=4096, bias=True)\n",
              "    (2): ReLU(inplace=True)\n",
              "    (3): Dropout(p=0.5, inplace=False)\n",
              "    (4): Linear(in_features=4096, out_features=4096, bias=True)\n",
              "    (5): ReLU(inplace=True)\n",
              "    (6): Linear(in_features=4096, out_features=1000, bias=True)\n",
              "  )\n",
              ")"
            ]
          },
          "metadata": {
            "tags": []
          },
          "execution_count": 3
        }
      ]
    },
    {
      "cell_type": "code",
      "metadata": {
        "id": "UJ3wtsgi6tQk",
        "colab": {
          "base_uri": "https://localhost:8080/"
        },
        "outputId": "8c1cd261-bdaa-4369-a85a-52d9f703e256"
      },
      "source": [
        "# remove 2FC layers\n",
        "from torch import nn\n",
        "from collections import OrderedDict\n",
        "for param in model.parameters():\n",
        "    param.requires_grad = False\n",
        "classifier = nn.Sequential(OrderedDict([('fc1', nn.Dropout(p=0.5)),\n",
        "                                         ('linear', nn.Linear(9216,4096)),\n",
        "                                         ('relu',nn.ReLU())]))\n",
        "\n",
        "model.classifier = classifier\n",
        "model.eval()"
      ],
      "execution_count": 4,
      "outputs": [
        {
          "output_type": "execute_result",
          "data": {
            "text/plain": [
              "AlexNet(\n",
              "  (features): Sequential(\n",
              "    (0): Conv2d(3, 64, kernel_size=(11, 11), stride=(4, 4), padding=(2, 2))\n",
              "    (1): ReLU(inplace=True)\n",
              "    (2): MaxPool2d(kernel_size=3, stride=2, padding=0, dilation=1, ceil_mode=False)\n",
              "    (3): Conv2d(64, 192, kernel_size=(5, 5), stride=(1, 1), padding=(2, 2))\n",
              "    (4): ReLU(inplace=True)\n",
              "    (5): MaxPool2d(kernel_size=3, stride=2, padding=0, dilation=1, ceil_mode=False)\n",
              "    (6): Conv2d(192, 384, kernel_size=(3, 3), stride=(1, 1), padding=(1, 1))\n",
              "    (7): ReLU(inplace=True)\n",
              "    (8): Conv2d(384, 256, kernel_size=(3, 3), stride=(1, 1), padding=(1, 1))\n",
              "    (9): ReLU(inplace=True)\n",
              "    (10): Conv2d(256, 256, kernel_size=(3, 3), stride=(1, 1), padding=(1, 1))\n",
              "    (11): ReLU(inplace=True)\n",
              "    (12): MaxPool2d(kernel_size=3, stride=2, padding=0, dilation=1, ceil_mode=False)\n",
              "  )\n",
              "  (avgpool): AdaptiveAvgPool2d(output_size=(6, 6))\n",
              "  (classifier): Sequential(\n",
              "    (fc1): Dropout(p=0.5, inplace=False)\n",
              "    (linear): Linear(in_features=9216, out_features=4096, bias=True)\n",
              "    (relu): ReLU()\n",
              "  )\n",
              ")"
            ]
          },
          "metadata": {
            "tags": []
          },
          "execution_count": 4
        }
      ]
    },
    {
      "cell_type": "code",
      "metadata": {
        "id": "GSZLss1ppDMk"
      },
      "source": [
        "#preprocess\n",
        "from torchvision import transforms\n",
        "from PIL import Image\n",
        "preprocess = transforms.Compose([\n",
        "    transforms.Resize(256),\n",
        "    transforms.CenterCrop(224),\n",
        "    transforms.ToTensor(),\n",
        "    transforms.Normalize(mean=[0.485, 0.456, 0.406], std=[0.229, 0.224, 0.225]),\n",
        "])\n",
        "device = torch.device('cuda' if torch.cuda.is_available() else 'cpu')"
      ],
      "execution_count": 5,
      "outputs": []
    },
    {
      "cell_type": "code",
      "metadata": {
        "id": "xWM1EBGHq3Ot"
      },
      "source": [
        "#prepare data train\n",
        "data_train = []\n",
        "label_train = []\n",
        "for ix in apple_imgs :\n",
        "    img = Image.open(path_apple+\"/\"+ix)\n",
        "    input_tensor = preprocess(img)\n",
        "    input_batch = input_tensor.unsqueeze(0) \n",
        "    res = model(input_batch)\n",
        "    data_train.append(res)\n",
        "    label_train.append('1')\n",
        "for iy in banana_imgs :\n",
        "    img = Image.open(path_banana+\"/\"+iy)\n",
        "    input_tensor = preprocess(img)\n",
        "    input_batch = input_tensor.unsqueeze(0) \n",
        "    res = model(input_batch)\n",
        "    data_train.append(res)\n",
        "    label_train.append('0')"
      ],
      "execution_count": 6,
      "outputs": []
    },
    {
      "cell_type": "code",
      "metadata": {
        "id": "8mQb4C9HBMtU"
      },
      "source": [
        "#convert to numpy 1d array \n",
        "for i in range(len(data_train)):\n",
        " data_train[i] = torch.detach(data_train[i]).numpy()\n",
        "for i in range(len(data_train)):\n",
        " data_train[i] = data_train[i].reshape(4096)"
      ],
      "execution_count": 7,
      "outputs": []
    },
    {
      "cell_type": "code",
      "metadata": {
        "id": "TfFIPtMz2doe"
      },
      "source": [
        "#split 3 train 7 test\n",
        "from sklearn.model_selection import train_test_split\n",
        "x_train , x_val , y_train , y_val = train_test_split(data_train,label_train,test_size=0.7,random_state=0)"
      ],
      "execution_count": 8,
      "outputs": []
    },
    {
      "cell_type": "code",
      "metadata": {
        "colab": {
          "base_uri": "https://localhost:8080/"
        },
        "id": "vBJACLu099ON",
        "outputId": "8827215d-0005-4371-8993-3a352895ecf7"
      },
      "source": [
        "#evaluate\n",
        "from sklearn.svm import SVC\n",
        "from sklearn.metrics import accuracy_score\n",
        "svc = SVC(random_state=42)\n",
        "svc.fit(x_train,y_train)\n",
        "predict = svc.predict(x_val)\n",
        "acc_score = accuracy_score(y_val,predict)\n",
        "print(acc_score)"
      ],
      "execution_count": 9,
      "outputs": [
        {
          "output_type": "stream",
          "text": [
            "0.9657142857142857\n"
          ],
          "name": "stdout"
        }
      ]
    },
    {
      "cell_type": "code",
      "metadata": {
        "colab": {
          "base_uri": "https://localhost:8080/"
        },
        "id": "dgA4ALvAbU4g",
        "outputId": "eec537d8-b17f-4309-930e-5a4f2be34120"
      },
      "source": [
        "# precision recall f1 score\n",
        "from sklearn.metrics import classification_report\n",
        "target_names = ['apple', 'pear']\n",
        "print(classification_report(y_val,predict, target_names=target_names))"
      ],
      "execution_count": 10,
      "outputs": [
        {
          "output_type": "stream",
          "text": [
            "              precision    recall  f1-score   support\n",
            "\n",
            "       apple       0.94      0.99      0.97       174\n",
            "        pear       0.99      0.94      0.96       176\n",
            "\n",
            "    accuracy                           0.97       350\n",
            "   macro avg       0.97      0.97      0.97       350\n",
            "weighted avg       0.97      0.97      0.97       350\n",
            "\n"
          ],
          "name": "stdout"
        }
      ]
    },
    {
      "cell_type": "code",
      "metadata": {
        "colab": {
          "base_uri": "https://localhost:8080/",
          "height": 513
        },
        "id": "gGV1B2dJLutY",
        "outputId": "4c96d751-d531-421f-a230-a6e5d709730c"
      },
      "source": [
        "# compute the confusion matrix\n",
        "import matplotlib.pyplot as plt\n",
        "import seaborn as sns\n",
        "from sklearn.metrics import confusion_matrix\n",
        "confusion_mtx = confusion_matrix(y_val, predict) \n",
        "# plot the confusion matrix\n",
        "f,ax = plt.subplots(figsize=(8, 8))\n",
        "sns.heatmap(confusion_mtx, annot=True, linewidths=0.01,cmap=\"Greens\",linecolor=\"gray\", fmt= '.1f',ax=ax)\n",
        "plt.xlabel(\"Predicted Label\")\n",
        "plt.ylabel(\"True Label\")\n",
        "plt.title(\"Confusion Matrix\")\n",
        "plt.show()"
      ],
      "execution_count": 11,
      "outputs": [
        {
          "output_type": "display_data",
          "data": {
            "image/png": "[encoded data removed]",
            "text/plain": [
              "<Figure size 576x576 with 2 Axes>"
            ]
          },
          "metadata": {
            "tags": [],
            "needs_background": "light"
          }
        }
      ]
    },
    {
      "cell_type": "code",
      "metadata": {
        "colab": {
          "base_uri": "https://localhost:8080/"
        },
        "id": "v6IFJ8-AMKY1",
        "outputId": "ae36e510-efff-4a53-b3fb-2c5786c8d4d8"
      },
      "source": [
        "#encode with fc2 Alexnet\n",
        "model_fc2 = torch.hub.load('pytorch/vision:v0.9.0', 'alexnet', pretrained=True)\n",
        "model_fc2.eval()\n",
        "classifier_fc2 = nn.Sequential(OrderedDict([('fc1', nn.Dropout(p=0.5)),\n",
        "                                         ('linear', nn.Linear(9216,4096)),\n",
        "                                         ('relu',nn.ReLU()),\n",
        "                                          ('dropout',nn.Dropout(p=0.5)),\n",
        "                                          ('linear2',nn.Linear(4096,4096)),\n",
        "                                          ('relu2',nn.ReLU())]))\n",
        "model_fc2.classifier = classifier_fc2\n",
        "model_fc2.eval()"
      ],
      "execution_count": 23,
      "outputs": [
        {
          "output_type": "stream",
          "text": [
            "Using cache found in /root/.cache/torch/hub/pytorch_vision_v0.9.0\n"
          ],
          "name": "stderr"
        },
        {
          "output_type": "execute_result",
          "data": {
            "text/plain": [
              "AlexNet(\n",
              "  (features): Sequential(\n",
              "    (0): Conv2d(3, 64, kernel_size=(11, 11), stride=(4, 4), padding=(2, 2))\n",
              "    (1): ReLU(inplace=True)\n",
              "    (2): MaxPool2d(kernel_size=3, stride=2, padding=0, dilation=1, ceil_mode=False)\n",
              "    (3): Conv2d(64, 192, kernel_size=(5, 5), stride=(1, 1), padding=(2, 2))\n",
              "    (4): ReLU(inplace=True)\n",
              "    (5): MaxPool2d(kernel_size=3, stride=2, padding=0, dilation=1, ceil_mode=False)\n",
              "    (6): Conv2d(192, 384, kernel_size=(3, 3), stride=(1, 1), padding=(1, 1))\n",
              "    (7): ReLU(inplace=True)\n",
              "    (8): Conv2d(384, 256, kernel_size=(3, 3), stride=(1, 1), padding=(1, 1))\n",
              "    (9): ReLU(inplace=True)\n",
              "    (10): Conv2d(256, 256, kernel_size=(3, 3), stride=(1, 1), padding=(1, 1))\n",
              "    (11): ReLU(inplace=True)\n",
              "    (12): MaxPool2d(kernel_size=3, stride=2, padding=0, dilation=1, ceil_mode=False)\n",
              "  )\n",
              "  (avgpool): AdaptiveAvgPool2d(output_size=(6, 6))\n",
              "  (classifier): Sequential(\n",
              "    (fc1): Dropout(p=0.5, inplace=False)\n",
              "    (linear): Linear(in_features=9216, out_features=4096, bias=True)\n",
              "    (relu): ReLU()\n",
              "    (dropout): Dropout(p=0.5, inplace=False)\n",
              "    (linear2): Linear(in_features=4096, out_features=4096, bias=True)\n",
              "    (relu2): ReLU()\n",
              "  )\n",
              ")"
            ]
          },
          "metadata": {
            "tags": []
          },
          "execution_count": 23
        }
      ]
    },
    {
      "cell_type": "code",
      "metadata": {
        "id": "NQnKmhhiUgD4"
      },
      "source": [
        "# do the same fc1\n",
        "data_train_fc2 = []\n",
        "label_train_fc2 = []\n",
        "for ix in apple_imgs :\n",
        "    img = Image.open(path_apple+\"/\"+ix)\n",
        "    input_tensor = preprocess(img)\n",
        "    input_batch = input_tensor.unsqueeze(0) \n",
        "    res = model_fc2(input_batch)\n",
        "    data_train_fc2.append(res)\n",
        "    label_train_fc2.append('1')\n",
        "for iy in banana_imgs :\n",
        "    img = Image.open(path_banana+\"/\"+iy)\n",
        "    input_tensor = preprocess(img)\n",
        "    input_batch = input_tensor.unsqueeze(0) \n",
        "    res = model_fc2(input_batch)\n",
        "    data_train_fc2.append(res)\n",
        "    label_train_fc2.append('0')"
      ],
      "execution_count": 24,
      "outputs": []
    },
    {
      "cell_type": "code",
      "metadata": {
        "id": "1plMC6oAcgXb"
      },
      "source": [
        "for i in range(len(data_train_fc2)):\n",
        " data_train_fc2[i] = torch.detach(data_train_fc2[i]).numpy()\n",
        "for i in range(len(data_train_fc2)):\n",
        " data_train_fc2[i] = data_train_fc2[i].reshape(4096)"
      ],
      "execution_count": 25,
      "outputs": []
    },
    {
      "cell_type": "code",
      "metadata": {
        "colab": {
          "base_uri": "https://localhost:8080/"
        },
        "id": "4bgDkxHeoIBW",
        "outputId": "45a04683-e4cc-4faf-efbc-8e23cee3b085"
      },
      "source": [
        "data_train[1] "
      ],
      "execution_count": 26,
      "outputs": [
        {
          "output_type": "execute_result",
          "data": {
            "text/plain": [
              "array([1.7524608 , 0.7033226 , 0.05674529, ..., 0.        , 0.        ,\n",
              "       0.62914664], dtype=float32)"
            ]
          },
          "metadata": {
            "tags": []
          },
          "execution_count": 26
        }
      ]
    },
    {
      "cell_type": "code",
      "metadata": {
        "colab": {
          "base_uri": "https://localhost:8080/"
        },
        "id": "ksKyZFv7oKlR",
        "outputId": "6249d994-feff-4fcd-baa5-51c3043109b6"
      },
      "source": [
        "data_train_fc2[1]"
      ],
      "execution_count": 28,
      "outputs": [
        {
          "output_type": "execute_result",
          "data": {
            "text/plain": [
              "array([0.5069691 , 0.        , 0.00791701, ..., 0.06361172, 0.24325399,\n",
              "       0.12719294], dtype=float32)"
            ]
          },
          "metadata": {
            "tags": []
          },
          "execution_count": 28
        }
      ]
    },
    {
      "cell_type": "code",
      "metadata": {
        "id": "Pi54uBcgcqCV"
      },
      "source": [
        "x_train , x_val , y_train , y_val = train_test_split(data_train_fc2,label_train_fc2,test_size=0.7,random_state=0)"
      ],
      "execution_count": 29,
      "outputs": []
    },
    {
      "cell_type": "code",
      "metadata": {
        "colab": {
          "base_uri": "https://localhost:8080/"
        },
        "id": "e3_s7hfQcyem",
        "outputId": "53e90976-9e4e-4b6c-be00-0e453ba3e624"
      },
      "source": [
        "svc_fc2 = SVC(random_state=42)\n",
        "svc_fc2.fit(x_train,y_train)\n",
        "predict_fc2 = svc_fc2.predict(x_val)\n",
        "acc_score_fc2 = accuracy_score(y_val,predict_fc2)\n",
        "print(acc_score_fc2)\n",
        "target_names = ['apple', 'pear']\n",
        "print(classification_report(y_val,predict_fc2, target_names=target_names))"
      ],
      "execution_count": 30,
      "outputs": [
        {
          "output_type": "stream",
          "text": [
            "0.9714285714285714\n",
            "              precision    recall  f1-score   support\n",
            "\n",
            "       apple       0.95      1.00      0.97       174\n",
            "        pear       1.00      0.94      0.97       176\n",
            "\n",
            "    accuracy                           0.97       350\n",
            "   macro avg       0.97      0.97      0.97       350\n",
            "weighted avg       0.97      0.97      0.97       350\n",
            "\n"
          ],
          "name": "stdout"
        }
      ]
    },
    {
      "cell_type": "code",
      "metadata": {
        "colab": {
          "base_uri": "https://localhost:8080/",
          "height": 513
        },
        "id": "07Y-GGyIdH2v",
        "outputId": "423cccb4-bcb7-4a12-8f0b-bc1682e36be1"
      },
      "source": [
        "# the same result\n",
        "confusion_mtx = confusion_matrix(y_val, predict_fc2) \n",
        "# plot the confusion matrix\n",
        "f,ax = plt.subplots(figsize=(8, 8))\n",
        "sns.heatmap(confusion_mtx, annot=True, linewidths=0.01,cmap=\"Greens\",linecolor=\"gray\", fmt= '.1f',ax=ax)\n",
        "plt.xlabel(\"Predicted Label\")\n",
        "plt.ylabel(\"True Label\")\n",
        "plt.title(\"Confusion Matrix\")\n",
        "plt.show()"
      ],
      "execution_count": 31,
      "outputs": [
        {
          "output_type": "display_data",
          "data": {
            "image/png": "[encoded data removed]",
            "text/plain": [
              "<Figure size 576x576 with 2 Axes>"
            ]
          },
          "metadata": {
            "tags": [],
            "needs_background": "light"
          }
        }
      ]
    },
    {
      "cell_type": "code",
      "metadata": {
        "id": "0kwG6NKzDKmq"
      },
      "source": [
        "img = Image.open('/content/Fruits-Classification/data/banana/banana_0.jpg')\n",
        "input_tensor = preprocess(img)\n",
        "input_batch = input_tensor.unsqueeze(0) \n",
        "res = model(input_batch)"
      ],
      "execution_count": null,
      "outputs": []
    },
    {
      "cell_type": "code",
      "metadata": {
        "colab": {
          "base_uri": "https://localhost:8080/"
        },
        "id": "Pqb7TI33DaDx",
        "outputId": "8950fda4-4de4-42de-8b9e-5e093e3e81ff"
      },
      "source": [
        "res = torch.detach(res).numpy()\n",
        "#res = res.reshape(4096)\n",
        "res.shape"
      ],
      "execution_count": null,
      "outputs": [
        {
          "output_type": "execute_result",
          "data": {
            "text/plain": [
              "(1, 4096)"
            ]
          },
          "metadata": {
            "tags": []
          },
          "execution_count": 97
        }
      ]
    },
    {
      "cell_type": "code",
      "metadata": {
        "colab": {
          "base_uri": "https://localhost:8080/"
        },
        "id": "YsBOgeneDnCW",
        "outputId": "c6ac7627-55fd-4d33-f9ed-2a744cde10d6"
      },
      "source": [
        "svc.predict(res)"
      ],
      "execution_count": null,
      "outputs": [
        {
          "output_type": "execute_result",
          "data": {
            "text/plain": [
              "array(['0'], dtype='<U1')"
            ]
          },
          "metadata": {
            "tags": []
          },
          "execution_count": 98
        }
      ]
    }
  ]
}